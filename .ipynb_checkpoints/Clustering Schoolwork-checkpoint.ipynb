{
 "cells": [
  {
   "cell_type": "markdown",
   "metadata": {},
   "source": [
    "# Clustering Schoolwork——Markov Cluster Algorithm on Iris Dataset\n",
    "### milestone 1 \n",
    "#### author：Hsu An      2016011434\n",
    "#### last update: 20 Nov 2018\n"
   ]
  },
  {
   "cell_type": "markdown",
   "metadata": {},
   "source": [
    "基本思路：\n",
    "1. 使用欧式距离度量计算每个样本之间的相似度，求出矩阵（概率矩阵）\n",
    "2. 卡阈值，剔除距离过大的值（去掉边）\n",
    "3. 将剔除过大的值后将矩阵转化为无向图\n",
    "4. normalize矩阵，并进行迭代（Expansion，Inflation）\n",
    "5. 当矩阵趋于稳定时，将结果转化为聚簇"
   ]
  },
  {
   "cell_type": "code",
   "execution_count": 1,
   "metadata": {},
   "outputs": [],
   "source": [
    "import numpy as np\n",
    "import pandas as pd\n",
    "from sklearn.datasets import load_iris\n",
    "from pandas.tools.plotting import radviz\n",
    "\n",
    "import matplotlib.pyplot as plt\n",
    "from sklearn.decomposition import PCA\n",
    "\n",
    "import sklearn.preprocessing\n",
    "\n",
    "from scipy.sparse import isspmatrix, dok_matrix, csc_matrix\n",
    "\n",
    "from sklearn.metrics import accuracy_score"
   ]
  },
  {
   "cell_type": "code",
   "execution_count": 2,
   "metadata": {},
   "outputs": [],
   "source": [
    "# 导入iris数据集\n",
    "\n",
    "\n",
    "iris = load_iris()  # 加载数据集\n",
    "\n",
    "features = iris.data # 获取属性数据(各种特征值)\n",
    "labels = iris.target # 获取类别数据（花的分类）\n",
    "target_names = iris.target_names # 获取数据的分类名称（花的分类名称）"
   ]
  },
  {
   "cell_type": "code",
   "execution_count": 3,
   "metadata": {},
   "outputs": [],
   "source": [
    "# # 使用Radviz图将数据可视化  (暂时无效，待使用)\n",
    "# features_df = pd.DataFrame(features)\n",
    "# # features_df.columns = ['sepal-length', 'sepal-width', 'petal-length', 'petal-width']\n",
    "# labels_df = pd.DataFrame(labels)\n",
    "# labels_df.columns = ['class']\n",
    "\n",
    "# radviz(features_df, labels_df)\n"
   ]
  },
  {
   "cell_type": "code",
   "execution_count": 4,
   "metadata": {},
   "outputs": [
    {
     "data": {
      "text/plain": [
       "[]"
      ]
     },
     "execution_count": 4,
     "metadata": {},
     "output_type": "execute_result"
    },
    {
     "data": {
      "image/png": "[encoded data removed]",
      "text/plain": [
       "<matplotlib.figure.Figure at 0x10dd81470>"
      ]
     },
     "metadata": {
      "needs_background": "light"
     },
     "output_type": "display_data"
    }
   ],
   "source": [
    "# 使用PCA降维并进行可视化\n",
    "pca = PCA(n_components=2)\n",
    "pca.fit(features)\n",
    "features_new = pca.transform(features)\n",
    "# plt.figure(figsize=[5,5],dpi=200)\n",
    "features_new_1 = plt.scatter(features_new[0:50, 0], features_new[0:50, 1],marker='o')\n",
    "features_new_2 = plt.scatter(features_new[51:100, 0], features_new[51:100, 1],marker='v')\n",
    "features_new_3 = plt.scatter(features_new[101:149, 0], features_new[101:149, 1],marker='*')\n",
    "plt.legend(handles=[features_new_1, features_new_2,features_new_3], labels=['setosa', 'versicolor', 'virginica'],  loc='best')\n",
    "plt.title('Classification Before MCL (Original Data)')\n",
    "plt.plot()"
   ]
  },
  {
   "cell_type": "code",
   "execution_count": 5,
   "metadata": {},
   "outputs": [],
   "source": [
    "# 求相似度矩阵\n",
    "simple_size = 150 # simple_size定义样本的数量\n",
    "sim_arr = [] # sim_arr定义相似度列表\n",
    "for i in features:\n",
    "    for j in features:\n",
    "        distance = np.sqrt((i[0]-j[0])**2+(i[1]-j[1])**2+(i[2]-j[2])**2+(i[3]-j[3])**2)  # 求出每个样本点之间的欧式距离\n",
    "        sim_arr.append(float(distance))  # 将欧式距离转化为float类型,并添加到list中\n",
    "sim_arr = np.array(sim_arr) # 将list转化为np.array类型\n",
    "sim_arr = sim_arr.reshape(simple_size,simple_size) # 将相似度列表转化为150*150的矩阵形式"
   ]
  },
  {
   "cell_type": "code",
   "execution_count": 6,
   "metadata": {},
   "outputs": [],
   "source": [
    "# 暂定阈值为1，将距离大于1的边全部剔除，小于等于1且不等于1（不加自环）的边设置权重为1（转化为无向图）\n",
    "threshold = 1.3  # 暂定阈值为1\n",
    "\n",
    "for i in range(simple_size):\n",
    "    for j in range(simple_size):\n",
    "        if sim_arr[i][j] > threshold:\n",
    "            sim_arr[i][j] = 0\n",
    "        if sim_arr[i][j] < threshold and sim_arr[i][j] != 0:\n",
    "            sim_arr[i][j] = 1"
   ]
  },
  {
   "cell_type": "code",
   "execution_count": 7,
   "metadata": {},
   "outputs": [],
   "source": [
    "# 添加自环\n",
    "for i in range(simple_size):\n",
    "    sim_arr[i][i] = 1"
   ]
  },
  {
   "cell_type": "code",
   "execution_count": 8,
   "metadata": {},
   "outputs": [],
   "source": [
    "# 矩阵标准化\n",
    "def normalize(matrix):\n",
    "\n",
    "#     功能：将给定矩阵的行进行标准化\n",
    "#     输入参数：\n",
    "#         martix:给定矩阵\n",
    "#     输出：\n",
    "#         标准化后的矩阵martix'\n",
    "\n",
    "    return sklearn.preprocessing.normalize(matrix,norm=\"l1\", axis=0)"
   ]
  },
  {
   "cell_type": "code",
   "execution_count": 9,
   "metadata": {},
   "outputs": [],
   "source": [
    "# 矩阵相乘操作(Expansion)\n",
    "def dot_multiply(matrix):\n",
    "#     功能：将给定矩阵进行乘法\n",
    "#     输入参数：\n",
    "#         martix:给定矩阵\n",
    "#     输出：\n",
    "#         相乘后的矩阵martix'\n",
    "    return np.dot(matrix,matrix)"
   ]
  },
  {
   "cell_type": "code",
   "execution_count": 10,
   "metadata": {},
   "outputs": [],
   "source": [
    "# 矩阵膨胀操作（Inflation）\n",
    "def inflation(matrix,inflat_factor):\n",
    "#    功能：将给定矩阵进行膨胀操作(先对矩阵做inflat_factor次乘方，之后标准化矩阵)\n",
    "#    输入参数：\n",
    "#         martix:给定矩阵\n",
    "#         inflat_factor:膨胀算子，将矩阵的每一个元素进行inflat_factor次乘方\n",
    "#      输出：\n",
    "#          膨胀后的矩阵martix'\n",
    "    matrix_inflation = np.power(matrix,inflat_factor) # 将矩阵每个元素进行inflat_factor乘方\n",
    "    matrix_inflation = normalize(matrix_inflation)  # 将乘方好的矩阵进行标准化处理\n",
    "    \n",
    "    return matrix_inflation"
   ]
  },
  {
   "cell_type": "code",
   "execution_count": 11,
   "metadata": {},
   "outputs": [],
   "source": [
    "# 判断矩阵是否收敛\n",
    "def matrix_converge(matrix1,matrix2,rtol=1e-05, atol=1e-08):\n",
    "#    功能：判断矩阵是否收敛\n",
    "#    输入参数：\n",
    "#         matrix1:给定矩阵1\n",
    "#         matrix2:给定矩阵2\n",
    "#         rtol=1e-05, atol=1e-08：宽容度\n",
    "#      输出：\n",
    "#         bool类型，如果收敛，返回true，否则返回false\n",
    "#          \n",
    "    return np.allclose(matrix1,matrix2,rtol=rtol, atol=atol)"
   ]
  },
  {
   "cell_type": "code",
   "execution_count": 12,
   "metadata": {},
   "outputs": [
    {
     "name": "stdout",
     "output_type": "stream",
     "text": [
      "The iteration processed for 1 rounds\n",
      "The iteration processed for 2 rounds\n",
      "The iteration processed for 3 rounds\n",
      "The iteration processed for 4 rounds\n",
      "The iteration processed for 5 rounds\n",
      "The iteration processed for 6 rounds\n",
      "The iteration processed for 7 rounds\n",
      "The iteration processed for 8 rounds\n",
      "The iteration processed for 9 rounds\n",
      "The iteration processed for 10 rounds\n",
      "Iteration has stopped. The best iteration time is 10.\n",
      "The Adjacency matrix has been converged.\n"
     ]
    }
   ],
   "source": [
    "# 计算带权邻接矩阵\n",
    "iterate_num = 100 # 指定迭代次数\n",
    "inflat_factors = 3 # 指定膨胀系数\n",
    "sim_arr_last = sim_arr  # sim_arr_last表示上一次迭代时的矩阵\n",
    "\n",
    "sim_arr = normalize(sim_arr) # 将矩阵标准化处理\n",
    "\n",
    "for i in range(iterate_num): # 进行iterate_num次迭代\n",
    "    sim_arr = dot_multiply(sim_arr)  # 进行矩阵相乘操作\n",
    "    sim_arr = inflation(sim_arr,inflat_factor=inflat_factors)  # 进行膨胀操作\n",
    "    if matrix_converge(sim_arr,sim_arr_last):  # 当迭代到相似度基本一致时（基本收敛），提前停止迭代过程\n",
    "        print('The iteration processed for '+str(i+1)+' rounds')\n",
    "        print('Iteration has stopped. The best iteration time is '+str(i+1)+\".\")\n",
    "        break\n",
    "    else:\n",
    "        sim_arr_last = sim_arr\n",
    "        print('The iteration processed for '+str(i+1)+' rounds')\n",
    "print('The Adjacency matrix has been converged.')"
   ]
  },
  {
   "cell_type": "code",
   "execution_count": 13,
   "metadata": {},
   "outputs": [],
   "source": [
    "# 将邻接矩阵转化为聚类  best distance = 1.3 inflat_factors = 3  len(cluster_result) = 3   acc = 0.76\n",
    "def get_clusters(matrix):\n",
    "\n",
    "    if not isspmatrix(matrix):\n",
    "        # cast to sparse so that we don't need to handle different \n",
    "        # matrix types\n",
    "        matrix = csc_matrix(matrix)\n",
    "\n",
    "    # get the attractors - non-zero elements of the matrix diagonal\n",
    "    attractors = matrix.diagonal().nonzero()[0]\n",
    "\n",
    "    # somewhere to put the clusters\n",
    "    clusters = set()\n",
    "\n",
    "    # the nodes in the same row as each attractor form a cluster\n",
    "    for attractor in attractors:\n",
    "        cluster = tuple(matrix.getrow(attractor).nonzero()[1].tolist())\n",
    "        clusters.add(cluster)\n",
    "\n",
    "    return sorted(list(clusters))"
   ]
  },
  {
   "cell_type": "code",
   "execution_count": 14,
   "metadata": {},
   "outputs": [
    {
     "name": "stdout",
     "output_type": "stream",
     "text": [
      "Cluster 1:\n",
      "(0, 1, 2, 3, 4, 5, 6, 7, 8, 9, 10, 11, 12, 13, 14, 15, 16, 17, 18, 19, 20, 21, 22, 23, 24, 25, 26, 27, 28, 29, 30, 31, 32, 33, 34, 35, 36, 37, 38, 39, 40, 41, 42, 43, 44, 45, 46, 47, 48, 49)\n",
      "Cluster 2:\n",
      "(50, 51, 52, 53, 54, 55, 56, 57, 58, 59, 60, 61, 62, 63, 64, 65, 66, 67, 68, 69, 70, 71, 72, 73, 74, 75, 76, 77, 78, 79, 80, 81, 82, 83, 84, 85, 86, 87, 88, 89, 90, 91, 92, 93, 94, 95, 96, 97, 98, 99, 100, 101, 103, 104, 106, 108, 110, 111, 112, 113, 114, 115, 116, 119, 120, 121, 123, 124, 126, 127, 128, 132, 133, 134, 136, 137, 138, 139, 140, 141, 142, 144, 145, 146, 147, 148, 149)\n",
      "Cluster 3:\n",
      "(102, 105, 107, 109, 117, 118, 120, 122, 125, 129, 130, 131, 135, 143)\n"
     ]
    }
   ],
   "source": [
    "# 输出聚类结果\n",
    "cluster_result = get_clusters(sim_arr)\n",
    "len(cluster_result)\n",
    "for index,i in enumerate(cluster_result):\n",
    "    print('Cluster '+str(index+1)+':')\n",
    "    print(i)"
   ]
  },
  {
   "cell_type": "code",
   "execution_count": 15,
   "metadata": {},
   "outputs": [
    {
     "name": "stdout",
     "output_type": "stream",
     "text": [
      "Find same component 120 in cluster_1 and cluster_2\n",
      "The index in cluster_1 is 64\n",
      "The index in cluster_2 is 6\n"
     ]
    }
   ],
   "source": [
    "# 整理聚类结果\n",
    "cluster_index_0 = np.array(cluster_result[0])\n",
    "cluster_index_1 = np.array(cluster_result[1])\n",
    "cluster_index_2 = np.array(cluster_result[2])\n",
    "\n",
    "# 元素查重\n",
    "for index_i,i in enumerate(cluster_index_0):\n",
    "    for index_j,j in enumerate(cluster_index_1):\n",
    "        if i == j:\n",
    "            print('Find same component '+str(i)+' in cluster_0 and cluster_1')\n",
    "            print('The index in cluster_0 is '+str(index_i))\n",
    "            print('The index in cluster_1 is '+str(index_j))\n",
    "    for index_k,k in enumerate(cluster_index_2):\n",
    "        if i == k:\n",
    "            print('Find same component '+str(i)+' in cluster_0 and cluster_2')\n",
    "            print('The index in cluster_1 is '+str(index_i))\n",
    "            print('The index in cluster_2 is '+str(index_k))\n",
    "for index_i,i in enumerate(cluster_index_1):\n",
    "    for index_j,j in enumerate(cluster_index_2):\n",
    "        if i == j:\n",
    "            print('Find same component '+str(i)+' in cluster_1 and cluster_2')\n",
    "            print('The index in cluster_1 is '+str(index_i))\n",
    "            print('The index in cluster_2 is '+str(index_j))"
   ]
  },
  {
   "cell_type": "code",
   "execution_count": 16,
   "metadata": {},
   "outputs": [],
   "source": [
    "# 剔除重复元素\n",
    "cluster_index_1 = np.delete(cluster_index_1,64)"
   ]
  },
  {
   "cell_type": "code",
   "execution_count": 17,
   "metadata": {},
   "outputs": [],
   "source": [
    "# 聚类后标签列表\n",
    "cluster_lable = np.zeros(150) # 初始化标签列表,全部置为0\n",
    "\n",
    "for i in cluster_index_0:\n",
    "    cluster_lable[i] = 0\n",
    "for i in cluster_index_1:\n",
    "    cluster_lable[i] = 1\n",
    "for i in cluster_index_2:\n",
    "    cluster_lable[i] = 2    "
   ]
  },
  {
   "cell_type": "code",
   "execution_count": 18,
   "metadata": {},
   "outputs": [
    {
     "data": {
      "text/plain": [
       "[]"
      ]
     },
     "execution_count": 18,
     "metadata": {},
     "output_type": "execute_result"
    },
    {
     "data": {
      "image/png": "[encoded data removed]",
      "text/plain": [
       "<matplotlib.figure.Figure at 0x11c666710>"
      ]
     },
     "metadata": {
      "needs_background": "light"
     },
     "output_type": "display_data"
    }
   ],
   "source": [
    "# 使用PCA降维并将聚类结果进行可视化\n",
    "\n",
    "# 初始化聚类数据坐标列表\n",
    "cluster_data_0 = np.zeros(shape=(len(cluster_index_0),2))\n",
    "cluster_data_1 = np.zeros(shape=(len(cluster_index_1),2))\n",
    "cluster_data_2 = np.zeros(shape=(len(cluster_index_1),2))\n",
    "\n",
    "# 将聚类结果的坐标添加到列表中\n",
    "for index,i in enumerate(cluster_index_0):\n",
    "    cluster_data_0[index] = features_new[i]\n",
    "for index,i in enumerate(cluster_index_1):\n",
    "    cluster_data_1[index] = features_new[i]\n",
    "for index,i in enumerate(cluster_index_2):\n",
    "    cluster_data_2[index] = features_new[i]\n",
    "\n",
    "# 绘制图像\n",
    "# plt.figure(figsize=[5,5],dpi=200)\n",
    "features_new_1 = plt.scatter(cluster_data_0[:, 0], cluster_data_0[:, 1],marker='o')\n",
    "features_new_2 = plt.scatter(cluster_data_1[:, 0], cluster_data_1[:, 1],marker='v')\n",
    "features_new_3 = plt.scatter(cluster_data_2[:, 0], cluster_data_2[:, 1],marker='*')\n",
    "plt.legend(handles=[features_new_1, features_new_2,features_new_3], labels=['setosa', 'versicolor', 'virginica'], loc='best')\n",
    "plt.title('Classification After MCL (Clustering Result)')\n",
    "plt.plot()"
   ]
  },
  {
   "cell_type": "code",
   "execution_count": 19,
   "metadata": {},
   "outputs": [
    {
     "name": "stdout",
     "output_type": "stream",
     "text": [
      "The MCL accuracy is 0.76\n"
     ]
    }
   ],
   "source": [
    "# 输出聚类准确率\n",
    "acc = accuracy_score(labels,cluster_lable)\n",
    "print('The MCL accuracy is '+str(acc))"
   ]
  }
 ],
 "metadata": {
  "kernelspec": {
   "display_name": "Python 3",
   "language": "python",
   "name": "python3"
  },
  "language_info": {
   "codemirror_mode": {
    "name": "ipython",
    "version": 3
   },
   "file_extension": ".py",
   "mimetype": "text/x-python",
   "name": "python",
   "nbconvert_exporter": "python",
   "pygments_lexer": "ipython3",
   "version": "3.6.4"
  }
 },
 "nbformat": 4,
 "nbformat_minor": 2
}
